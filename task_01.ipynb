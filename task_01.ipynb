{
 "cells": [
  {
   "cell_type": "code",
   "execution_count": 49,
   "metadata": {},
   "outputs": [],
   "source": [
    "import numpy as np\n",
    "import numpy_financial as npf\n",
    "import matplotlib.pyplot as plt"
   ]
  },
  {
   "cell_type": "markdown",
   "metadata": {},
   "source": [
    "Zamierzasz kupić mieszkanie. Upatrzone M kosztuje w tym momencie 120 tys. zł, jednak przewidujesz, że przez następne 5 lat ceny mieszkań będą rosły w tempie 5% rocznie. W tym momencie nie dysponujesz wystarczającymi środkami, dlatego znajdujesz ofertę banku, który proponuje lokatę, do której dopłacasz pewna stałą kwotę na koniec każdego miesiąca. Bank oferuje nominalną stopę procentową w wysokości 12% w skali roku, przy kapitalizacji miesięcznej.\n",
    "\n",
    "- Ile będzie wynosiła orientacyjna cena mieszkania za 5 lat?\n",
    "- Ile musisz wpłacać do banku każdego miesiąca, aby przy przedstawionej ofercie uzbierać na mieszkanie w ciągu 5 lat?\n",
    "- Stwórz wykres przedstawiający, jak w interwałach miesięcznych zmieniać się będzie cena mieszkania (liniowy wzrost w całym okresie) oraz wartość twojej lokaty."
   ]
  },
  {
   "cell_type": "markdown",
   "metadata": {},
   "source": [
    "Cena mieszkania (przy założeniu, że koszt rośnie 5% rocznie, ale w systemie ciągłym, tzn. cena aktualizowana jest co miesiąc)"
   ]
  },
  {
   "cell_type": "code",
   "execution_count": 50,
   "metadata": {},
   "outputs": [],
   "source": [
    "cost_initial = 12e04\n",
    "cost_annual_rate = 5e-02\n",
    "cost_month_rate = cost_annual_rate/12\n",
    "number_of_years = 5\n",
    "number_of_periods = number_of_years*12"
   ]
  },
  {
   "cell_type": "markdown",
   "metadata": {},
   "source": [
    "Przy comiesięcznej zmianie wartości końcowa cena mieszkania wyniesie:"
   ]
  },
  {
   "cell_type": "code",
   "execution_count": 51,
   "metadata": {},
   "outputs": [
    {
     "data": {
      "text/plain": [
       "154003.04"
      ]
     },
     "execution_count": 51,
     "metadata": {},
     "output_type": "execute_result"
    }
   ],
   "source": [
    "cost_final = np.around(cost_initial*(1+cost_month_rate)**number_of_periods,2)\n",
    "cost_final"
   ]
  },
  {
   "cell_type": "markdown",
   "metadata": {},
   "source": [
    "Przy coroczniej zmianie wartości końcowa cena mieszkania wyniesie:"
   ]
  },
  {
   "cell_type": "code",
   "execution_count": 52,
   "metadata": {},
   "outputs": [
    {
     "data": {
      "text/plain": [
       "153153.79"
      ]
     },
     "execution_count": 52,
     "metadata": {},
     "output_type": "execute_result"
    }
   ],
   "source": [
    "cost_final_y = np.around(cost_initial*(1+cost_annual_rate)**number_of_years,2)\n",
    "cost_final_y\n"
   ]
  },
  {
   "cell_type": "markdown",
   "metadata": {},
   "source": [
    "Z równania:\n",
    "\n",
    "$$ futurevalue = pv\\cdot(1+rate)^{nper}+pmt\\cdot(1+rate \\cdot when)/rate*((1+rate)^{nper}-1) $$\n",
    "\n",
    "można obliczyć payment (pmt)"
   ]
  },
  {
   "cell_type": "markdown",
   "metadata": {},
   "source": [
    "Ponieważ pv = pmt, można zapisać:\n",
    "$$f_v = p_v \\cdot \\left(1+r\\right)^{n_{per}} + p_{mt} \\cdot \\left(1+r\\cdot w\\right)/r \\cdot \\left((1+r)^{n_{per}}-1\\right). $$\n",
    "Po przekształceniu:\n",
    "$$f_v = p_v \\left[\\left(1+r\\right)^{n_{per}} + \\left(1+r\\cdot w\\right)/r \\cdot \\left((1+r)^{n_{per}}-1\\right)\\right]. $$\n",
    "Możemy obliczyć:\n",
    "$$p_v =  \\dfrac{f_v}{\\left[\\left(1+r\\right)^{n_{per}} + \\left(1+r\\cdot w\\right)/r \\cdot \\left((1+r)^{n_{per}}-1\\right)\\right]}. $$\n",
    "\n",
    "\n"
   ]
  },
  {
   "cell_type": "code",
   "execution_count": 53,
   "metadata": {},
   "outputs": [],
   "source": [
    "when = 1"
   ]
  },
  {
   "cell_type": "code",
   "execution_count": 54,
   "metadata": {},
   "outputs": [
    {
     "data": {
      "text/plain": [
       "1826.78"
      ]
     },
     "execution_count": 54,
     "metadata": {},
     "output_type": "execute_result"
    }
   ],
   "source": [
    "future_value = cost_final\n",
    "rate = 12e-02/12\n",
    "pv = np.around(future_value/((1+rate)**number_of_periods+(1+rate*when)/rate*((1+rate)**number_of_periods-1)),2)\n",
    "pv"
   ]
  },
  {
   "cell_type": "markdown",
   "metadata": {},
   "source": [
    "Sprawdźmy, czy z funkcji numpy_financial.fv otrzymamy ten sam wynik"
   ]
  },
  {
   "cell_type": "code",
   "execution_count": 55,
   "metadata": {},
   "outputs": [
    {
     "data": {
      "text/plain": [
       "154003.15"
      ]
     },
     "execution_count": 55,
     "metadata": {},
     "output_type": "execute_result"
    }
   ],
   "source": [
    "fv = np.around(npf.fv(rate, number_of_periods, -pv, -pv, when),2)\n",
    "fv"
   ]
  },
  {
   "cell_type": "markdown",
   "metadata": {},
   "source": [
    "Sprawdzimy też, czy funkcja wbudowana present value da ten sam wynik:"
   ]
  },
  {
   "cell_type": "code",
   "execution_count": 56,
   "metadata": {},
   "outputs": [
    {
     "data": {
      "text/plain": [
       "1826.78"
      ]
     },
     "execution_count": 56,
     "metadata": {},
     "output_type": "execute_result"
    }
   ],
   "source": [
    "pv = np.around(npf.pv(rate, number_of_periods, pv, -fv, when),2)\n",
    "pv"
   ]
  },
  {
   "cell_type": "markdown",
   "metadata": {},
   "source": [
    "Jest to oczekiwany wynik."
   ]
  },
  {
   "cell_type": "markdown",
   "metadata": {},
   "source": [
    "Przeprowadźmy symulację, gdzie\n",
    "$t$ - wektor (czas w miesiącach)"
   ]
  },
  {
   "cell_type": "code",
   "execution_count": 57,
   "metadata": {},
   "outputs": [
    {
     "data": {
      "text/plain": [
       "array([ 1,  2,  3,  4,  5,  6,  7,  8,  9, 10, 11, 12, 13, 14, 15, 16, 17,\n",
       "       18, 19, 20, 21, 22, 23, 24, 25, 26, 27, 28, 29, 30, 31, 32, 33, 34,\n",
       "       35, 36, 37, 38, 39, 40, 41, 42, 43, 44, 45, 46, 47, 48, 49, 50, 51,\n",
       "       52, 53, 54, 55, 56, 57, 58, 59, 60])"
      ]
     },
     "execution_count": 57,
     "metadata": {},
     "output_type": "execute_result"
    }
   ],
   "source": [
    "t = np.arange(number_of_periods)+1\n",
    "t"
   ]
  },
  {
   "cell_type": "markdown",
   "metadata": {},
   "source": [
    "Cena mieszkania na koniec każdego z miesięcy"
   ]
  },
  {
   "cell_type": "code",
   "execution_count": 58,
   "metadata": {},
   "outputs": [
    {
     "data": {
      "text/plain": [
       "array([120500.  , 121002.08, 121506.26, 122012.53, 122520.92, 123031.42,\n",
       "       123544.06, 124058.82, 124575.73, 125094.8 , 125616.03, 126139.43,\n",
       "       126665.01, 127192.78, 127722.75, 128254.93, 128789.32, 129325.95,\n",
       "       129864.8 , 130405.91, 130949.26, 131494.89, 132042.78, 132592.96,\n",
       "       133145.43, 133700.2 , 134257.29, 134816.69, 135378.43, 135942.51,\n",
       "       136508.93, 137077.72, 137648.88, 138222.41, 138798.34, 139376.67,\n",
       "       139957.4 , 140540.56, 141126.15, 141714.17, 142304.65, 142897.58,\n",
       "       143492.99, 144090.88, 144691.26, 145294.14, 145899.53, 146507.44,\n",
       "       147117.89, 147730.88, 148346.43, 148964.54, 149585.22, 150208.49,\n",
       "       150834.36, 151462.84, 152093.93, 152727.66, 153364.02, 154003.04])"
      ]
     },
     "execution_count": 58,
     "metadata": {},
     "output_type": "execute_result"
    }
   ],
   "source": [
    "flat_cost = np.around(cost_initial*(1+cost_month_rate)**t,2)\n",
    "flat_cost"
   ]
  },
  {
   "cell_type": "markdown",
   "metadata": {},
   "source": [
    "Suma oszczędności na koniec kadego z miesięcy"
   ]
  },
  {
   "cell_type": "code",
   "execution_count": 59,
   "metadata": {},
   "outputs": [
    {
     "data": {
      "text/plain": [
       "array([  3690.1 ,   5572.04,   7472.81,   9392.59,  11331.56,  13289.93,\n",
       "        15267.87,  17265.6 ,  19283.3 ,  21321.18,  23379.44,  25458.29,\n",
       "        27557.92,  29678.54,  31820.38,  33983.63,  36168.51,  38375.25,\n",
       "        40604.05,  42855.13,  45128.73,  47425.07,  49744.37,  52086.86,\n",
       "        54452.77,  56842.35,  59255.82,  61693.43,  64155.41,  66642.01,\n",
       "        69153.48,  71690.06,  74252.01,  76839.58,  79453.02,  82092.6 ,\n",
       "        84758.57,  87451.21,  90170.77,  92917.52,  95691.75,  98493.71,\n",
       "       101323.7 , 104181.98, 107068.85, 109984.58, 112929.48, 115903.82,\n",
       "       118907.91, 121942.03, 125006.5 , 128101.61, 131227.68, 134385.  ,\n",
       "       137573.9 , 140794.69, 144047.68, 147333.21, 150651.59, 154003.15])"
      ]
     },
     "execution_count": 59,
     "metadata": {},
     "output_type": "execute_result"
    }
   ],
   "source": [
    "savings = np.around(npf.fv(rate, t, -pv, -pv, when),2)\n",
    "savings"
   ]
  },
  {
   "cell_type": "markdown",
   "metadata": {},
   "source": [
    "Wykres ceny mieszkania i sumy oszczędności w czasie:"
   ]
  },
  {
   "cell_type": "code",
   "execution_count": 60,
   "metadata": {},
   "outputs": [
    {
     "data": {
      "image/png": "[encoded data removed]",
      "text/plain": [
       "<Figure size 640x480 with 1 Axes>"
      ]
     },
     "metadata": {},
     "output_type": "display_data"
    }
   ],
   "source": [
    "plt.plot(t, savings, label = 'savings')\n",
    "plt.plot(t, flat_cost, label = 'flat price')\n",
    "plt.xlabel('time [months]')\n",
    "plt.ylabel('value')\n",
    "plt.legend()\n",
    "plt.show()"
   ]
  },
  {
   "cell_type": "markdown",
   "metadata": {},
   "source": [
    "Wniosek: \n",
    "Z analizy wynika, że aby w tych warunkach zaoszczędzić na mieszkanie na lokacie, należałoby przez pięć lat comiesięcznie odkładać 1826.78 zł."
   ]
  }
 ],
 "metadata": {
  "kernelspec": {
   "display_name": "Python 3",
   "language": "python",
   "name": "python3"
  },
  "language_info": {
   "codemirror_mode": {
    "name": "ipython",
    "version": 3
   },
   "file_extension": ".py",
   "mimetype": "text/x-python",
   "name": "python",
   "nbconvert_exporter": "python",
   "pygments_lexer": "ipython3",
   "version": "3.11.2"
  },
  "orig_nbformat": 4
 },
 "nbformat": 4,
 "nbformat_minor": 2
}
